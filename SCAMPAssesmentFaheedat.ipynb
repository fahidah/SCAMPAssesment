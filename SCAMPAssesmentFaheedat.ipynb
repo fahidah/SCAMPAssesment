{
 "cells": [
  {
   "cell_type": "markdown",
   "metadata": {},
   "source": [
    "## SCAMP ASSESSMENT"
   ]
  },
  {
   "cell_type": "markdown",
   "metadata": {},
   "source": [
    "## This program outputs the fibonacci sequence of a given number using python 3"
   ]
  },
  {
   "cell_type": "markdown",
   "metadata": {},
   "source": [
    "### Rule: Fibonacci Sequence is a series of numbers of the form: 0,1,1,2,3,5,8... It starts with number 0, followed by 1,and every other number is the sum of the last number and the preceeding number. Hence 0+1 = 1, 1+1=2, 2+1=3, 3+2= 5 e.t.c\n"
   ]
  },
  {
   "cell_type": "code",
   "execution_count": 1,
   "metadata": {},
   "outputs": [],
   "source": [
    "# define a function for the fibonacci sequence\n",
    "\n",
    "def fibonacci(x):\n",
    "    if x <= 1:\n",
    "        return x\n",
    "    else:\n",
    "        return fibonacci(x-1) + fibonacci(x-2)"
   ]
  },
  {
   "cell_type": "code",
   "execution_count": 16,
   "metadata": {},
   "outputs": [
    {
     "name": "stdout",
     "output_type": "stream",
     "text": [
      "Enter a term for your sequence: 2\n",
      "The Fibonacci Sequence is:  0 1 "
     ]
    }
   ],
   "source": [
    "# accept input from user\n",
    "nterm = int(input(\"Enter a term for your sequence: \"))\n",
    "# print out the fibonacci sequence\n",
    "if nterm < 0:\n",
    "        print(\"Enter a positive integer!!\")\n",
    "else:\n",
    "    print(\"The Fibonacci Sequence is: \", end=\" \")\n",
    "    for i in range(nterm):\n",
    "        print(fibonacci(i), end=\" \")\n"
   ]
  },
  {
   "cell_type": "code",
   "execution_count": null,
   "metadata": {},
   "outputs": [],
   "source": []
  }
 ],
 "metadata": {
  "kernelspec": {
   "display_name": "Python 3",
   "language": "python",
   "name": "python3"
  },
  "language_info": {
   "codemirror_mode": {
    "name": "ipython",
    "version": 3
   },
   "file_extension": ".py",
   "mimetype": "text/x-python",
   "name": "python",
   "nbconvert_exporter": "python",
   "pygments_lexer": "ipython3",
   "version": "3.7.3"
  }
 },
 "nbformat": 4,
 "nbformat_minor": 2
}
